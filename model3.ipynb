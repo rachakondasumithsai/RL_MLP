{
  "nbformat": 4,
  "nbformat_minor": 0,
  "metadata": {
    "colab": {
      "name": "Untitled1.ipynb",
      "provenance": []
    },
    "kernelspec": {
      "name": "python3",
      "display_name": "Python 3"
    }
  },
  "cells": [
    {
      "cell_type": "code",
      "metadata": {
        "id": "FD-P0gdAwXEo"
      },
      "source": [
        "import numpy as np\r\n",
        "import matplotlib.pyplot as plt\r\n",
        "from keras import models, layers, optimizers\r\n",
        "import tensorflow\r\n",
        "from tensorflow.keras.datasets import mnist\r\n",
        "from tensorflow.keras.models import Sequential\r\n",
        "from tensorflow.keras.layers import Dense, Dropout\r\n",
        "from tensorflow.keras.utils import to_categorical\r\n",
        "import scipy.ndimage\r\n",
        "from keras import backend as K"
      ],
      "execution_count": 1,
      "outputs": []
    },
    {
      "cell_type": "code",
      "metadata": {
        "colab": {
          "base_uri": "https://localhost:8080/"
        },
        "id": "RwQ3VbbswYGy",
        "outputId": "1721cadb-4e9a-4e44-aa49-6233128498af"
      },
      "source": [
        "# Configuration options\r\n",
        "num_classes = 10\r\n",
        "\r\n",
        "# Load the data\r\n",
        "(X_train, Y_train), (X_test, Y_test) = mnist.load_data()\r\n",
        "\r\n",
        "print(X_train.shape)\r\n",
        "print(Y_train.shape)\r\n",
        "\r\n",
        "feature_vector_length = X_train.shape[1]*X_train.shape[2]\r\n",
        "print(feature_vector_length)\r\n",
        "\r\n",
        "# Reshape the data - MLPs do not understand such things as '2D'.\r\n",
        "# Reshape to 28 x 28 pixels = 784 features\r\n",
        "X_train = X_train.reshape(X_train.shape[0], feature_vector_length)\r\n",
        "X_test = X_test.reshape(X_test.shape[0], feature_vector_length)\r\n",
        "print(X_train.shape)\r\n",
        "print(X_test.shape)\r\n",
        "\r\n",
        "# Convert into greyscale\r\n",
        "X_train = X_train.astype('float32')\r\n",
        "X_test = X_test.astype('float32')\r\n",
        "X_train /= 255 - 0.5\r\n",
        "X_test /= 255 - 0.5\r\n",
        "\r\n",
        "# Convert target classes to categorical ones\r\n",
        "Y_train = to_categorical(Y_train, num_classes)\r\n",
        "Y_test = to_categorical(Y_test, num_classes)\r\n",
        "\r\n",
        "# Set the input shape\r\n",
        "input_shape = (feature_vector_length,)\r\n",
        "print(f'Feature shape: {input_shape}')"
      ],
      "execution_count": 2,
      "outputs": [
        {
          "output_type": "stream",
          "text": [
            "Downloading data from https://storage.googleapis.com/tensorflow/tf-keras-datasets/mnist.npz\n",
            "11493376/11490434 [==============================] - 0s 0us/step\n",
            "(60000, 28, 28)\n",
            "(60000,)\n",
            "784\n",
            "(60000, 784)\n",
            "(10000, 784)\n",
            "Feature shape: (784,)\n"
          ],
          "name": "stdout"
        }
      ]
    },
    {
      "cell_type": "code",
      "metadata": {
        "colab": {
          "base_uri": "https://localhost:8080/"
        },
        "id": "t8asIOqCwaAv",
        "outputId": "5092165d-0d50-4d30-941d-d872a64c4fc8"
      },
      "source": [
        "# Create the model\r\n",
        "mnist_model = Sequential()\r\n",
        "mnist_model.add(Dense(392, input_shape=input_shape, activation='relu'))\r\n",
        "mnist_model.add(Dropout(0.2))\r\n",
        "mnist_model.add(Dense(196, activation='relu'))\r\n",
        "mnist_model.add(Dropout(0.5))\r\n",
        "mnist_model.add(Dense(num_classes, activation='softmax'))\r\n",
        "\r\n",
        "# Configure the model and start training\r\n",
        "mnist_model.compile(loss='categorical_crossentropy', optimizer='adam', metrics=['accuracy'])\r\n",
        "mnist_history = mnist_model.fit(X_train, Y_train, epochs=10, batch_size=250, verbose=1, validation_data=(X_test, Y_test))\r\n",
        "\r\n",
        "# Test the model after training\r\n",
        "test_results = mnist_model.evaluate(X_test, Y_test, verbose=1)\r\n",
        "print(f'Test results - Loss: {test_results[0]} - Accuracy: {test_results[1]}%')"
      ],
      "execution_count": 3,
      "outputs": [
        {
          "output_type": "stream",
          "text": [
            "Epoch 1/10\n",
            "240/240 [==============================] - 4s 15ms/step - loss: 0.4132 - accuracy: 0.8761 - val_loss: 0.1412 - val_accuracy: 0.9568\n",
            "Epoch 2/10\n",
            "240/240 [==============================] - 4s 15ms/step - loss: 0.1641 - accuracy: 0.9526 - val_loss: 0.1000 - val_accuracy: 0.9684\n",
            "Epoch 3/10\n",
            "240/240 [==============================] - 4s 15ms/step - loss: 0.1162 - accuracy: 0.9658 - val_loss: 0.0809 - val_accuracy: 0.9738\n",
            "Epoch 4/10\n",
            "240/240 [==============================] - 4s 15ms/step - loss: 0.0898 - accuracy: 0.9730 - val_loss: 0.0766 - val_accuracy: 0.9766\n",
            "Epoch 5/10\n",
            "240/240 [==============================] - 4s 15ms/step - loss: 0.0767 - accuracy: 0.9768 - val_loss: 0.0714 - val_accuracy: 0.9782\n",
            "Epoch 6/10\n",
            "240/240 [==============================] - 4s 15ms/step - loss: 0.0627 - accuracy: 0.9810 - val_loss: 0.0676 - val_accuracy: 0.9783\n",
            "Epoch 7/10\n",
            "240/240 [==============================] - 4s 15ms/step - loss: 0.0536 - accuracy: 0.9831 - val_loss: 0.0619 - val_accuracy: 0.9804\n",
            "Epoch 8/10\n",
            "240/240 [==============================] - 4s 15ms/step - loss: 0.0473 - accuracy: 0.9850 - val_loss: 0.0620 - val_accuracy: 0.9818\n",
            "Epoch 9/10\n",
            "240/240 [==============================] - 4s 15ms/step - loss: 0.0408 - accuracy: 0.9870 - val_loss: 0.0676 - val_accuracy: 0.9800\n",
            "Epoch 10/10\n",
            "240/240 [==============================] - 4s 15ms/step - loss: 0.0366 - accuracy: 0.9887 - val_loss: 0.0680 - val_accuracy: 0.9816\n",
            "313/313 [==============================] - 1s 2ms/step - loss: 0.0680 - accuracy: 0.9816\n",
            "Test results - Loss: 0.06800847500562668 - Accuracy: 0.9815999865531921%\n"
          ],
          "name": "stdout"
        }
      ]
    },
    {
      "cell_type": "code",
      "metadata": {
        "id": "x7XfC2SizUtn"
      },
      "source": [
        "def tau(s,a):\r\n",
        "    if (s[0] and s[9]) == 0 : s=np.roll(s,a)\r\n",
        "    return s\r\n",
        "\r\n",
        "def rho(s):\r\n",
        "    return ((s[0]==1)+2*(s[9]==1))    \r\n",
        "\r\n",
        "def terminal_state(s):\r\n",
        "    return (s[0]==1 or s[9]==1)    \r\n",
        "\r\n",
        "def getNextStateImage(next_s):\r\n",
        "  for image in X_test:\r\n",
        "    pred = mnist_model.predict(image.reshape(1,784))\r\n",
        "    # plt.imshow(image.reshape(28,28), cmap='gray')\r\n",
        "    # plt.show()\r\n",
        "    if pred.argmax() == next_s.argmax():\r\n",
        "      # plt.imshow(image.reshape(28,28), cmap='gray')\r\n",
        "      # plt.show()\r\n",
        "      return image\r\n",
        "\r\n",
        "gamma=0.5\r\n",
        "invT = 1"
      ],
      "execution_count": 37,
      "outputs": []
    },
    {
      "cell_type": "code",
      "metadata": {
        "id": "A824p2Drwp7Q"
      },
      "source": [
        "# Create the model\r\n",
        "combined_model = Sequential()\r\n",
        "combined_model.add(Dense(392, input_shape=input_shape, activation='relu'))\r\n",
        "combined_model.add(Dropout(0.2))\r\n",
        "combined_model.add(Dense(196, activation='relu'))\r\n",
        "combined_model.add(Dropout(0.5))\r\n",
        "combined_model.add(Dense(num_classes, activation='softmax'))\r\n",
        "combined_model.add(Dense(10, activation='relu'))\r\n",
        "combined_model.add(Dense(2, activation='linear'))\r\n",
        "RMSprop = optimizers.RMSprop(lr=0.01)\r\n",
        "combined_model.compile(loss='mse', optimizer=RMSprop)"
      ],
      "execution_count": 4,
      "outputs": []
    },
    {
      "cell_type": "code",
      "metadata": {
        "colab": {
          "base_uri": "https://localhost:8080/"
        },
        "id": "5UFB2yZwxlWe",
        "outputId": "a44dbea0-89e5-4e80-affb-d24ec7ecf688"
      },
      "source": [
        "combined_model.predict(X_train[0].reshape(1,784))"
      ],
      "execution_count": 10,
      "outputs": [
        {
          "output_type": "execute_result",
          "data": {
            "text/plain": [
              "array([[0.05006948, 0.15662144]], dtype=float32)"
            ]
          },
          "metadata": {
            "tags": []
          },
          "execution_count": 10
        }
      ]
    },
    {
      "cell_type": "code",
      "metadata": {
        "colab": {
          "base_uri": "https://localhost:8080/"
        },
        "id": "KueS8yGVx3Vr",
        "outputId": "f0806cf8-e5af-4edf-9175-2218d1004e50"
      },
      "source": [
        "mnist_model.predict(X_train[0].reshape(1,784)).argmax()"
      ],
      "execution_count": 30,
      "outputs": [
        {
          "output_type": "execute_result",
          "data": {
            "text/plain": [
              "5"
            ]
          },
          "metadata": {
            "tags": []
          },
          "execution_count": 30
        }
      ]
    },
    {
      "cell_type": "code",
      "metadata": {
        "colab": {
          "base_uri": "https://localhost:8080/"
        },
        "id": "Z5xIuKQHyjrQ",
        "outputId": "220ae6d8-566d-4525-ad54-c03b04e0ff52"
      },
      "source": [
        "to_categorical(mnist_model.predict(X_train[0].reshape(1,784)).argmax(), num_classes=10).astype(int)"
      ],
      "execution_count": 32,
      "outputs": [
        {
          "output_type": "execute_result",
          "data": {
            "text/plain": [
              "array([0, 0, 0, 0, 0, 1, 0, 0, 0, 0])"
            ]
          },
          "metadata": {
            "tags": []
          },
          "execution_count": 32
        }
      ]
    },
    {
      "cell_type": "code",
      "metadata": {
        "id": "X6GYE75VxXHz"
      },
      "source": [
        "for trial in range(400):\r\n",
        "    s = X_train[0] #np.array([0, 0, 0, 0, 0, 1, 0, 0, 0, 0])\r\n",
        "    for t in range(0,10):\r\n",
        "        print(\"for trail:\",trial,\"-\",t)\r\n",
        "        # prediction=mnist_model.predict(s.reshape(1,784), steps=1, verbose=0)\r\n",
        "        # layer_output = get_4th_layer_output(s.reshape(1,784))[0]\r\n",
        "        # indices = [layer_output.argmax()]\r\n",
        "        # depth = 10\r\n",
        "        state = to_categorical(mnist_model.predict(s.reshape(1,784)).argmax(), num_classes=10).astype(int)#tensorflow.one_hot(indices, depth).numpy()\r\n",
        "        if terminal_state(state): break\r\n",
        "        if trial > 30 and invT > 0.1: invT -= 0.001\r\n",
        "        prediction=combined_model.predict(s.reshape(1,784), steps=1, verbose=0)\r\n",
        "        aidx=np.argmax(prediction)\r\n",
        "        if np.random.rand() < invT : aidx=1-aidx\r\n",
        "        a=2*aidx-1\r\n",
        "        next_state = tau(state,a)\r\n",
        "        if terminal_state(next_state): \r\n",
        "            y = rho(next_state)\r\n",
        "            next_s = getNextStateImage(next_state)\r\n",
        "        else:\r\n",
        "            next_s = getNextStateImage(next_state)\r\n",
        "            y = gamma*np.max(combined_model.predict(next_s.reshape(1,784), steps=1, verbose=0))\r\n",
        "        prediction[0,aidx]=y\r\n",
        "        combined_model.fit(s.reshape(1,784), prediction, epochs=1, verbose=0)\r\n",
        "        s = np.copy(next_s)"
      ],
      "execution_count": null,
      "outputs": []
    },
    {
      "cell_type": "code",
      "metadata": {
        "colab": {
          "base_uri": "https://localhost:8080/"
        },
        "id": "4_39aCks2rHB",
        "outputId": "b9011011-8ac2-446c-9b03-ec37234eaa2d"
      },
      "source": [
        "policy = np.zeros(10)\r\n",
        "Q=[]\r\n",
        "s = getNextStateImage(np.array([1,0,0,0,0,0,0,0,0,0]))\r\n",
        "for i in range(0,10):\r\n",
        "    Qs=combined_model.predict(s.reshape(1,784), steps=1)\r\n",
        "    Q.append(Qs)\r\n",
        "    aidx=np.argmax(Qs)\r\n",
        "    policy[i]=2*aidx-1\r\n",
        "    policy[0]=policy[9]=0\r\n",
        "    state = to_categorical(mnist_model.predict(s.reshape(1,784)).argmax(), num_classes=10).astype(int)\r\n",
        "    state = np.roll(state,1)\r\n",
        "    s = getNextStateImage(state)\r\n",
        "print(np.transpose(Q))\r\n",
        "print('policy:',np.transpose(policy))"
      ],
      "execution_count": 46,
      "outputs": [
        {
          "output_type": "stream",
          "text": [
            "[[[0.3333138 0.3333138 0.3333138 0.3333138 0.3333138 0.3333138 0.3333138\n",
            "   0.3333138 0.3333138 0.3333138]]\n",
            "\n",
            " [[0.6931435 0.6931435 0.6931435 0.6931435 0.6931435 0.6931435 0.6931435\n",
            "   0.6931435 0.6931435 0.6931435]]]\n",
            "policy: [0. 1. 1. 1. 1. 1. 1. 1. 1. 0.]\n"
          ],
          "name": "stdout"
        }
      ]
    },
    {
      "cell_type": "code",
      "metadata": {
        "id": "OYBqVHML-yMA"
      },
      "source": [
        ""
      ],
      "execution_count": 46,
      "outputs": []
    }
  ]
}